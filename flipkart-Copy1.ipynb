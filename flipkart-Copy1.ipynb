{
 "cells": [
  {
   "cell_type": "code",
   "execution_count": 1,
   "id": "8bd92d03",
   "metadata": {},
   "outputs": [],
   "source": [
    "from kora.selenium import wd as browser\n",
    "from selenium.webdriver.common.by import By\n",
    "import pandas as pd \n",
    "import time\n",
    "from datetime import date,datetime as dt\n",
    "import datetime\n",
    "from bs4 import BeautifulSoup\n",
    "import numpy as np\n",
    "import re \n",
    "from datetime import  timedelta\n",
    "#from webdriver_manager.chrome import ChromeDriverManager\n",
    "\n",
    "#driver = browser.Chrome(ChromeDriverManager().install())\n",
    "\n",
    "#driver.get(\"http://www.python.org\")\n",
    "\n",
    "#driver.close()"
   ]
  },
  {
   "cell_type": "code",
   "execution_count": 2,
   "id": "0122af24",
   "metadata": {},
   "outputs": [
    {
     "name": "stdout",
     "output_type": "stream",
     "text": [
      "2022-09-21 19:34:23.410873\n"
     ]
    }
   ],
   "source": [
    "print(datetime.datetime.today())"
   ]
  },
  {
   "cell_type": "code",
   "execution_count": 3,
   "id": "d4b792f0",
   "metadata": {},
   "outputs": [
    {
     "name": "stdout",
     "output_type": "stream",
     "text": [
      "2022-09-21\n"
     ]
    }
   ],
   "source": [
    "print(datetime.date.today())"
   ]
  },
  {
   "cell_type": "code",
   "execution_count": 4,
   "id": "00793dd0",
   "metadata": {},
   "outputs": [],
   "source": [
    "td=datetime.date.today()\n",
    "#td-timedelta(days=5)"
   ]
  },
  {
   "cell_type": "code",
   "execution_count": 5,
   "id": "5e7320e5",
   "metadata": {},
   "outputs": [],
   "source": [
    "dataset_flipkart=[]"
   ]
  },
  {
   "cell_type": "code",
   "execution_count": 6,
   "id": "6af53852",
   "metadata": {},
   "outputs": [],
   "source": [
    "for i in range(1,75):\n",
    "    url=f\"https://www.flipkart.com/apple-iphone-13-product-red-128-gb/product-reviews/itm99b5658d148b0?pid=MOBG6VF59ZFEPEBX&lid=LSTMOBG6VF59ZFEPEBXLWTMMU&marketplace=FLIPKART&page={i}\"\n",
    "    browser.get(url)\n",
    "    xx= browser.find_elements(By.XPATH,\"//span[@class='_1BWGvX']\")\n",
    "    for x in range(len(xx)):\n",
    "        if xx[x].is_displayed():\n",
    "            browser.execute_script(\"arguments[0].click();\", xx[x])\n",
    "    \"\"\"\"def click(p):\n",
    "        try:\n",
    "            p.click()\n",
    "        except:\n",
    "            pass\n",
    "  \n",
    "    d_x=[click(x) for x in xx]\"\"\"\n",
    "    containers=[x.get_attribute('innerHTML') for x in browser.find_elements(By.XPATH,'//div[@class=\"col _2wzgFH K0kLPL\"]')]\n",
    "\n",
    "    for container in containers:\n",
    "        rev1=dict()\n",
    "        bsObj=BeautifulSoup(container)\n",
    "        #heading review \n",
    "        review=bsObj.find('p').text\n",
    "        #print(review)\n",
    "    \n",
    "\n",
    "        #review \n",
    "        rev=bsObj.find('div',attrs={\"class\":\"t-ZTKy\"}).text.strip()\n",
    "        #print(rev)\n",
    "        #rating\n",
    "        try:\n",
    "            try:\n",
    "                rating=bsObj.find('div',attrs={\"class\":\"_3LWZlK _1BLPMq\"}).text.strip()\n",
    "                rating=int(float(rating[0]))\n",
    "            except:\n",
    "                rating=bsObj.find('div',attrs={\"class\":\"_3LWZlK _32lA32 _1BLPMq\"}).text.strip()\n",
    "                rating=int(float(rating[0]))\n",
    "        except:\n",
    "            rating=bsObj.find('div',attrs={\"class\":\"_3LWZlK _1rdVr6 _1BLPMq\"}).text.strip()\n",
    "            rating=int(float(rating[0]))\n",
    "            \n",
    "    \n",
    "        #other info\n",
    "        try:\n",
    "            info=bsObj.find(\"div\",attrs={\"class\":\"row _3n8db9\"}).text.strip()\n",
    "            p=r\"(\\d+ \\w+) ago\"\n",
    "            p=re.findall(p,info)[0]\n",
    "            #p1=r\", ([A-Za-z.]+)\\d+\"\n",
    "            #print(re.findall(p1,info))\n",
    "            #p=int(float(p))\n",
    "            date_rev=p\n",
    "        except:\n",
    "            date_rev=\"no info\"\n",
    "        #print(date_rev)\n",
    "        rev1[\"date\"]=date_rev\n",
    "        rev1[\"rating\"]=rating\n",
    "        rev1[\"review\"]=review+\" \"+rev\n",
    "        dataset_flipkart.append(rev1)"
   ]
  },
  {
   "cell_type": "code",
   "execution_count": 7,
   "id": "f5793dfe",
   "metadata": {},
   "outputs": [],
   "source": [
    "df_flipkart=pd.DataFrame(dataset_flipkart)"
   ]
  },
  {
   "cell_type": "code",
   "execution_count": 8,
   "id": "ecff84a6",
   "metadata": {},
   "outputs": [
    {
     "data": {
      "text/html": [
       "<div>\n",
       "<style scoped>\n",
       "    .dataframe tbody tr th:only-of-type {\n",
       "        vertical-align: middle;\n",
       "    }\n",
       "\n",
       "    .dataframe tbody tr th {\n",
       "        vertical-align: top;\n",
       "    }\n",
       "\n",
       "    .dataframe thead th {\n",
       "        text-align: right;\n",
       "    }\n",
       "</style>\n",
       "<table border=\"1\" class=\"dataframe\">\n",
       "  <thead>\n",
       "    <tr style=\"text-align: right;\">\n",
       "      <th></th>\n",
       "      <th>date</th>\n",
       "      <th>rating</th>\n",
       "      <th>review</th>\n",
       "    </tr>\n",
       "  </thead>\n",
       "  <tbody>\n",
       "    <tr>\n",
       "      <th>0</th>\n",
       "      <td>2 months</td>\n",
       "      <td>5</td>\n",
       "      <td>Brilliant I switch to ios from android after 1...</td>\n",
       "    </tr>\n",
       "    <tr>\n",
       "      <th>1</th>\n",
       "      <td>11 months</td>\n",
       "      <td>5</td>\n",
       "      <td>Fabulous! Amazing beast....As expected , didn'...</td>\n",
       "    </tr>\n",
       "    <tr>\n",
       "      <th>2</th>\n",
       "      <td>2 months</td>\n",
       "      <td>5</td>\n",
       "      <td>Worth every penny Day 2 Review: Display shows ...</td>\n",
       "    </tr>\n",
       "    <tr>\n",
       "      <th>3</th>\n",
       "      <td>8 months</td>\n",
       "      <td>5</td>\n",
       "      <td>Perfect product! Awesome camera Amazing batter...</td>\n",
       "    </tr>\n",
       "    <tr>\n",
       "      <th>4</th>\n",
       "      <td>10 months</td>\n",
       "      <td>5</td>\n",
       "      <td>Must buy! Just upgraded from 11 to iPhone 13 ....</td>\n",
       "    </tr>\n",
       "    <tr>\n",
       "      <th>...</th>\n",
       "      <td>...</td>\n",
       "      <td>...</td>\n",
       "      <td>...</td>\n",
       "    </tr>\n",
       "    <tr>\n",
       "      <th>557</th>\n",
       "      <td>3 months</td>\n",
       "      <td>5</td>\n",
       "      <td>Awesome Good .READ MORE</td>\n",
       "    </tr>\n",
       "    <tr>\n",
       "      <th>558</th>\n",
       "      <td>3 months</td>\n",
       "      <td>5</td>\n",
       "      <td>Classy product So far so good. Better than any...</td>\n",
       "    </tr>\n",
       "    <tr>\n",
       "      <th>559</th>\n",
       "      <td>3 months</td>\n",
       "      <td>5</td>\n",
       "      <td>Terrific Nice phone my first iphoneREAD MORE</td>\n",
       "    </tr>\n",
       "    <tr>\n",
       "      <th>560</th>\n",
       "      <td>3 months</td>\n",
       "      <td>5</td>\n",
       "      <td>Mind-blowing purchase Mobile was excellent. Th...</td>\n",
       "    </tr>\n",
       "    <tr>\n",
       "      <th>561</th>\n",
       "      <td>3 months</td>\n",
       "      <td>5</td>\n",
       "      <td>Terrific Very nice mobile I am happy 😊READ MORE</td>\n",
       "    </tr>\n",
       "  </tbody>\n",
       "</table>\n",
       "<p>562 rows × 3 columns</p>\n",
       "</div>"
      ],
      "text/plain": [
       "          date  rating                                             review\n",
       "0     2 months       5  Brilliant I switch to ios from android after 1...\n",
       "1    11 months       5  Fabulous! Amazing beast....As expected , didn'...\n",
       "2     2 months       5  Worth every penny Day 2 Review: Display shows ...\n",
       "3     8 months       5  Perfect product! Awesome camera Amazing batter...\n",
       "4    10 months       5  Must buy! Just upgraded from 11 to iPhone 13 ....\n",
       "..         ...     ...                                                ...\n",
       "557   3 months       5                            Awesome Good .READ MORE\n",
       "558   3 months       5  Classy product So far so good. Better than any...\n",
       "559   3 months       5       Terrific Nice phone my first iphoneREAD MORE\n",
       "560   3 months       5  Mind-blowing purchase Mobile was excellent. Th...\n",
       "561   3 months       5    Terrific Very nice mobile I am happy 😊READ MORE\n",
       "\n",
       "[562 rows x 3 columns]"
      ]
     },
     "execution_count": 8,
     "metadata": {},
     "output_type": "execute_result"
    }
   ],
   "source": [
    "df_flipkart"
   ]
  },
  {
   "cell_type": "code",
   "execution_count": 9,
   "id": "0764b7d4",
   "metadata": {},
   "outputs": [
    {
     "data": {
      "text/plain": [
       "array(['2 months', '11 months', '8 months', '10 months', '4 months',\n",
       "       '6 months', '9 months', '24 days', '3 months', '7 months',\n",
       "       '1 month', '5 months', '15 days', '29 days', '27 days', '30 days',\n",
       "       '12 days', '28 days', '7 days', '8 days', '25 days', '2 days',\n",
       "       '3 days', '17 days', '21 days', '22 days', '26 days'], dtype=object)"
      ]
     },
     "execution_count": 9,
     "metadata": {},
     "output_type": "execute_result"
    }
   ],
   "source": [
    "df_flipkart.date.unique()"
   ]
  },
  {
   "cell_type": "code",
   "execution_count": 10,
   "id": "aae95196",
   "metadata": {},
   "outputs": [],
   "source": [
    "def extract(rev):\n",
    "    f=rev[:-9]\n",
    "    return f"
   ]
  },
  {
   "cell_type": "code",
   "execution_count": 11,
   "id": "1de5a92b",
   "metadata": {},
   "outputs": [],
   "source": [
    "df_flipkart[\"review\"]=df_flipkart[\"review\"].apply(extract)"
   ]
  },
  {
   "cell_type": "code",
   "execution_count": 12,
   "id": "6f91206f",
   "metadata": {},
   "outputs": [
    {
     "data": {
      "text/html": [
       "<div>\n",
       "<style scoped>\n",
       "    .dataframe tbody tr th:only-of-type {\n",
       "        vertical-align: middle;\n",
       "    }\n",
       "\n",
       "    .dataframe tbody tr th {\n",
       "        vertical-align: top;\n",
       "    }\n",
       "\n",
       "    .dataframe thead th {\n",
       "        text-align: right;\n",
       "    }\n",
       "</style>\n",
       "<table border=\"1\" class=\"dataframe\">\n",
       "  <thead>\n",
       "    <tr style=\"text-align: right;\">\n",
       "      <th></th>\n",
       "      <th>date</th>\n",
       "      <th>rating</th>\n",
       "      <th>review</th>\n",
       "    </tr>\n",
       "  </thead>\n",
       "  <tbody>\n",
       "    <tr>\n",
       "      <th>0</th>\n",
       "      <td>2 months</td>\n",
       "      <td>5</td>\n",
       "      <td>Brilliant I switch to ios from android after 1...</td>\n",
       "    </tr>\n",
       "    <tr>\n",
       "      <th>1</th>\n",
       "      <td>11 months</td>\n",
       "      <td>5</td>\n",
       "      <td>Fabulous! Amazing beast....As expected , didn'...</td>\n",
       "    </tr>\n",
       "    <tr>\n",
       "      <th>2</th>\n",
       "      <td>2 months</td>\n",
       "      <td>5</td>\n",
       "      <td>Worth every penny Day 2 Review: Display shows ...</td>\n",
       "    </tr>\n",
       "    <tr>\n",
       "      <th>3</th>\n",
       "      <td>8 months</td>\n",
       "      <td>5</td>\n",
       "      <td>Perfect product! Awesome camera Amazing batter...</td>\n",
       "    </tr>\n",
       "    <tr>\n",
       "      <th>4</th>\n",
       "      <td>10 months</td>\n",
       "      <td>5</td>\n",
       "      <td>Must buy! Just upgraded from 11 to iPhone 13 ....</td>\n",
       "    </tr>\n",
       "    <tr>\n",
       "      <th>...</th>\n",
       "      <td>...</td>\n",
       "      <td>...</td>\n",
       "      <td>...</td>\n",
       "    </tr>\n",
       "    <tr>\n",
       "      <th>557</th>\n",
       "      <td>3 months</td>\n",
       "      <td>5</td>\n",
       "      <td>Awesome Good .</td>\n",
       "    </tr>\n",
       "    <tr>\n",
       "      <th>558</th>\n",
       "      <td>3 months</td>\n",
       "      <td>5</td>\n",
       "      <td>Classy product So far so good. Better than any...</td>\n",
       "    </tr>\n",
       "    <tr>\n",
       "      <th>559</th>\n",
       "      <td>3 months</td>\n",
       "      <td>5</td>\n",
       "      <td>Terrific Nice phone my first iphone</td>\n",
       "    </tr>\n",
       "    <tr>\n",
       "      <th>560</th>\n",
       "      <td>3 months</td>\n",
       "      <td>5</td>\n",
       "      <td>Mind-blowing purchase Mobile was excellent. Th...</td>\n",
       "    </tr>\n",
       "    <tr>\n",
       "      <th>561</th>\n",
       "      <td>3 months</td>\n",
       "      <td>5</td>\n",
       "      <td>Terrific Very nice mobile I am happy 😊</td>\n",
       "    </tr>\n",
       "  </tbody>\n",
       "</table>\n",
       "<p>562 rows × 3 columns</p>\n",
       "</div>"
      ],
      "text/plain": [
       "          date  rating                                             review\n",
       "0     2 months       5  Brilliant I switch to ios from android after 1...\n",
       "1    11 months       5  Fabulous! Amazing beast....As expected , didn'...\n",
       "2     2 months       5  Worth every penny Day 2 Review: Display shows ...\n",
       "3     8 months       5  Perfect product! Awesome camera Amazing batter...\n",
       "4    10 months       5  Must buy! Just upgraded from 11 to iPhone 13 ....\n",
       "..         ...     ...                                                ...\n",
       "557   3 months       5                                     Awesome Good .\n",
       "558   3 months       5  Classy product So far so good. Better than any...\n",
       "559   3 months       5                Terrific Nice phone my first iphone\n",
       "560   3 months       5  Mind-blowing purchase Mobile was excellent. Th...\n",
       "561   3 months       5             Terrific Very nice mobile I am happy 😊\n",
       "\n",
       "[562 rows x 3 columns]"
      ]
     },
     "execution_count": 12,
     "metadata": {},
     "output_type": "execute_result"
    }
   ],
   "source": [
    "df_flipkart"
   ]
  },
  {
   "cell_type": "code",
   "execution_count": 13,
   "id": "c83779b9",
   "metadata": {},
   "outputs": [
    {
     "data": {
      "text/plain": [
       "date      0\n",
       "rating    0\n",
       "review    0\n",
       "dtype: int64"
      ]
     },
     "execution_count": 13,
     "metadata": {},
     "output_type": "execute_result"
    }
   ],
   "source": [
    "df_flipkart.isna().sum()"
   ]
  },
  {
   "cell_type": "code",
   "execution_count": 14,
   "id": "4d02648e",
   "metadata": {},
   "outputs": [
    {
     "data": {
      "text/plain": [
       "5    472\n",
       "4     65\n",
       "1     12\n",
       "3     10\n",
       "2      3\n",
       "Name: rating, dtype: int64"
      ]
     },
     "execution_count": 14,
     "metadata": {},
     "output_type": "execute_result"
    }
   ],
   "source": [
    "df_flipkart.rating.value_counts()"
   ]
  },
  {
   "cell_type": "code",
   "execution_count": 16,
   "id": "e9d5edf9",
   "metadata": {},
   "outputs": [],
   "source": [
    "df_flipkart.to_excel(\"flipkart_Apple_IPhone_13_20220921.xlsx\",index=False)"
   ]
  },
  {
   "cell_type": "code",
   "execution_count": null,
   "id": "b3800f84",
   "metadata": {},
   "outputs": [],
   "source": []
  }
 ],
 "metadata": {
  "kernelspec": {
   "display_name": "Python 3 (ipykernel)",
   "language": "python",
   "name": "python3"
  },
  "language_info": {
   "codemirror_mode": {
    "name": "ipython",
    "version": 3
   },
   "file_extension": ".py",
   "mimetype": "text/x-python",
   "name": "python",
   "nbconvert_exporter": "python",
   "pygments_lexer": "ipython3",
   "version": "3.9.12"
  }
 },
 "nbformat": 4,
 "nbformat_minor": 5
}
